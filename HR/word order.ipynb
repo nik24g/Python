{
 "cells": [
  {
   "cell_type": "code",
   "execution_count": 4,
   "id": "73cd1aa2",
   "metadata": {},
   "outputs": [
    {
     "name": "stdout",
     "output_type": "stream",
     "text": [
      "6\n"
     ]
    }
   ],
   "source": [
    "num = int(input())\n",
    "dic = dict()"
   ]
  },
  {
   "cell_type": "code",
   "execution_count": 5,
   "id": "2aa06bea",
   "metadata": {},
   "outputs": [
    {
     "name": "stdout",
     "output_type": "stream",
     "text": [
      "nit\n",
      "sha\n",
      "nit\n",
      "gos\n",
      "chha\n",
      "sha\n"
     ]
    }
   ],
   "source": [
    "for i in range(num):\n",
    "    name = input()\n",
    "    if name in dic:\n",
    "        dic[name] += 1\n",
    "    else:\n",
    "        dic[name] = 1"
   ]
  },
  {
   "cell_type": "code",
   "execution_count": 6,
   "id": "ff3dd9d1",
   "metadata": {},
   "outputs": [
    {
     "data": {
      "text/plain": [
       "{'nit': 2, 'sha': 2, 'gos': 1, 'chha': 1}"
      ]
     },
     "execution_count": 6,
     "metadata": {},
     "output_type": "execute_result"
    }
   ],
   "source": [
    "dic"
   ]
  },
  {
   "cell_type": "code",
   "execution_count": 7,
   "id": "ae6482cf",
   "metadata": {},
   "outputs": [
    {
     "name": "stdout",
     "output_type": "stream",
     "text": [
      "4\n"
     ]
    }
   ],
   "source": [
    "print(len(dic))"
   ]
  },
  {
   "cell_type": "code",
   "execution_count": 11,
   "id": "4be28920",
   "metadata": {},
   "outputs": [
    {
     "name": "stdout",
     "output_type": "stream",
     "text": [
      "2 2 1 1\n"
     ]
    }
   ],
   "source": [
    "print(*dic.values())"
   ]
  },
  {
   "cell_type": "code",
   "execution_count": null,
   "id": "46064fae",
   "metadata": {},
   "outputs": [],
   "source": []
  }
 ],
 "metadata": {
  "kernelspec": {
   "display_name": "Python 3",
   "language": "python",
   "name": "python3"
  },
  "language_info": {
   "codemirror_mode": {
    "name": "ipython",
    "version": 3
   },
   "file_extension": ".py",
   "mimetype": "text/x-python",
   "name": "python",
   "nbconvert_exporter": "python",
   "pygments_lexer": "ipython3",
   "version": "3.8.5"
  }
 },
 "nbformat": 4,
 "nbformat_minor": 5
}
