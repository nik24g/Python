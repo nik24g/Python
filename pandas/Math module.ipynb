{
 "cells": [
  {
   "cell_type": "code",
   "execution_count": 1,
   "id": "9770ed05",
   "metadata": {},
   "outputs": [],
   "source": [
    "import math as m"
   ]
  },
  {
   "cell_type": "code",
   "execution_count": 2,
   "id": "2c0c924f",
   "metadata": {},
   "outputs": [],
   "source": [
    "lst = [5, 6, 8, 66, 99, 32, 55, 25, 61]"
   ]
  },
  {
   "cell_type": "code",
   "execution_count": 3,
   "id": "b5cfda8a",
   "metadata": {},
   "outputs": [
    {
     "name": "stdout",
     "output_type": "stream",
     "text": [
      "5\n"
     ]
    }
   ],
   "source": [
    "print(min(lst))"
   ]
  },
  {
   "cell_type": "code",
   "execution_count": 4,
   "id": "56d14773",
   "metadata": {},
   "outputs": [
    {
     "name": "stdout",
     "output_type": "stream",
     "text": [
      "99\n"
     ]
    }
   ],
   "source": [
    "print(max(lst))"
   ]
  },
  {
   "cell_type": "code",
   "execution_count": 5,
   "id": "16c3357c",
   "metadata": {},
   "outputs": [
    {
     "name": "stdout",
     "output_type": "stream",
     "text": [
      "[99, 66, 61, 55, 32, 25, 8, 6, 5]\n"
     ]
    }
   ],
   "source": [
    "lst.sort(reverse=True)\n",
    "print(lst)"
   ]
  },
  {
   "cell_type": "code",
   "execution_count": 6,
   "id": "a984d585",
   "metadata": {},
   "outputs": [],
   "source": [
    "a = -69.6\n",
    "b = 69"
   ]
  },
  {
   "cell_type": "code",
   "execution_count": 7,
   "id": "c7ea501c",
   "metadata": {},
   "outputs": [
    {
     "name": "stdout",
     "output_type": "stream",
     "text": [
      "-69.6\n",
      "69\n"
     ]
    }
   ],
   "source": [
    "print(a)\n",
    "print(b)"
   ]
  },
  {
   "cell_type": "code",
   "execution_count": 8,
   "id": "99ffd4af",
   "metadata": {},
   "outputs": [
    {
     "name": "stdout",
     "output_type": "stream",
     "text": [
      "69.6 69\n"
     ]
    }
   ],
   "source": [
    "print(abs(a), abs(b))"
   ]
  },
  {
   "cell_type": "code",
   "execution_count": 9,
   "id": "2539c6f1",
   "metadata": {},
   "outputs": [
    {
     "name": "stdout",
     "output_type": "stream",
     "text": [
      "3.141592653589793\n"
     ]
    }
   ],
   "source": [
    "print(m.pi)"
   ]
  },
  {
   "cell_type": "code",
   "execution_count": 10,
   "id": "f4bbb129",
   "metadata": {},
   "outputs": [
    {
     "name": "stdout",
     "output_type": "stream",
     "text": [
      "6.283185307179586\n"
     ]
    }
   ],
   "source": [
    "print(m.tau)"
   ]
  },
  {
   "cell_type": "code",
   "execution_count": 11,
   "id": "d2057896",
   "metadata": {},
   "outputs": [
    {
     "name": "stdout",
     "output_type": "stream",
     "text": [
      "2.718281828459045\n"
     ]
    }
   ],
   "source": [
    "print(m.e)"
   ]
  },
  {
   "cell_type": "code",
   "execution_count": 12,
   "id": "90d11dd4",
   "metadata": {},
   "outputs": [
    {
     "name": "stdout",
     "output_type": "stream",
     "text": [
      "0.8939966636005579\n",
      "0.8509035245341184\n"
     ]
    }
   ],
   "source": [
    "print(m.sin(90))\n",
    "print(m.sin(45))"
   ]
  },
  {
   "cell_type": "code",
   "execution_count": 13,
   "id": "9f6993af",
   "metadata": {},
   "outputs": [
    {
     "name": "stdout",
     "output_type": "stream",
     "text": [
      "-0.4480736161291701\n",
      "0.5253219888177297\n"
     ]
    }
   ],
   "source": [
    "print(m.cos(90))\n",
    "print(m.cos(45))"
   ]
  },
  {
   "cell_type": "code",
   "execution_count": 14,
   "id": "eeb0e7aa",
   "metadata": {},
   "outputs": [
    {
     "name": "stdout",
     "output_type": "stream",
     "text": [
      "1.6197751905438615\n",
      "0.320040389379563\n"
     ]
    }
   ],
   "source": [
    "print(m.tan(45))\n",
    "print(m.tan(60))"
   ]
  },
  {
   "cell_type": "code",
   "execution_count": 15,
   "id": "b9ae869f",
   "metadata": {},
   "outputs": [
    {
     "name": "stdout",
     "output_type": "stream",
     "text": [
      "12.0\n"
     ]
    }
   ],
   "source": [
    "print(m.sqrt(144))"
   ]
  },
  {
   "cell_type": "code",
   "execution_count": 16,
   "id": "08ee651a",
   "metadata": {},
   "outputs": [
    {
     "name": "stdout",
     "output_type": "stream",
     "text": [
      "729\n"
     ]
    }
   ],
   "source": [
    "print(pow(9, 3))"
   ]
  },
  {
   "cell_type": "code",
   "execution_count": 17,
   "id": "2f07fbb5",
   "metadata": {},
   "outputs": [
    {
     "name": "stdout",
     "output_type": "stream",
     "text": [
      "120\n"
     ]
    }
   ],
   "source": [
    "print(m.factorial(5))"
   ]
  },
  {
   "cell_type": "code",
   "execution_count": 18,
   "id": "c94c8b2c",
   "metadata": {},
   "outputs": [
    {
     "name": "stdout",
     "output_type": "stream",
     "text": [
      "3.141592653589793\n"
     ]
    }
   ],
   "source": [
    "print(m.radians(180))"
   ]
  },
  {
   "cell_type": "code",
   "execution_count": 19,
   "id": "a9e033a7",
   "metadata": {},
   "outputs": [
    {
     "name": "stdout",
     "output_type": "stream",
     "text": [
      "180.0\n"
     ]
    }
   ],
   "source": [
    "print(m.degrees(3.141592653589793))"
   ]
  },
  {
   "cell_type": "code",
   "execution_count": 20,
   "id": "a5f7ff1c",
   "metadata": {},
   "outputs": [
    {
     "name": "stdout",
     "output_type": "stream",
     "text": [
      "69.0\n"
     ]
    }
   ],
   "source": [
    "print(m.fabs(-69))"
   ]
  },
  {
   "cell_type": "code",
   "execution_count": 21,
   "id": "8e593672",
   "metadata": {},
   "outputs": [
    {
     "name": "stdout",
     "output_type": "stream",
     "text": [
      "2\n"
     ]
    }
   ],
   "source": [
    "print(m.ceil(1.1))"
   ]
  },
  {
   "cell_type": "code",
   "execution_count": null,
   "id": "d4d88109",
   "metadata": {},
   "outputs": [],
   "source": []
  }
 ],
 "metadata": {
  "kernelspec": {
   "display_name": "Python 3",
   "language": "python",
   "name": "python3"
  },
  "language_info": {
   "codemirror_mode": {
    "name": "ipython",
    "version": 3
   },
   "file_extension": ".py",
   "mimetype": "text/x-python",
   "name": "python",
   "nbconvert_exporter": "python",
   "pygments_lexer": "ipython3",
   "version": "3.8.5"
  }
 },
 "nbformat": 4,
 "nbformat_minor": 5
}
