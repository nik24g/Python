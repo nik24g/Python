{
 "cells": [
  {
   "cell_type": "code",
   "execution_count": 16,
   "id": "a038a220",
   "metadata": {},
   "outputs": [],
   "source": [
    "import math as m"
   ]
  },
  {
   "cell_type": "code",
   "execution_count": 2,
   "id": "55e4031c",
   "metadata": {},
   "outputs": [],
   "source": [
    "lst = [5, 6, 8, 66, 99, 32, 55, 25, 61]"
   ]
  },
  {
   "cell_type": "code",
   "execution_count": 3,
   "id": "dbed5e11",
   "metadata": {},
   "outputs": [
    {
     "name": "stdout",
     "output_type": "stream",
     "text": [
      "5\n"
     ]
    }
   ],
   "source": [
    "print(min(lst))"
   ]
  },
  {
   "cell_type": "code",
   "execution_count": 4,
   "id": "16c853fe",
   "metadata": {},
   "outputs": [
    {
     "name": "stdout",
     "output_type": "stream",
     "text": [
      "99\n"
     ]
    }
   ],
   "source": [
    "print(max(lst))"
   ]
  },
  {
   "cell_type": "code",
   "execution_count": 9,
   "id": "cd08e416",
   "metadata": {},
   "outputs": [
    {
     "name": "stdout",
     "output_type": "stream",
     "text": [
      "[99, 66, 61, 55, 32, 25, 8, 6, 5]\n"
     ]
    }
   ],
   "source": [
    "lst.sort(reverse=True)\n",
    "print(lst)"
   ]
  },
  {
   "cell_type": "code",
   "execution_count": 13,
   "id": "3ae7c288",
   "metadata": {},
   "outputs": [],
   "source": [
    "a = -69\n",
    "b = 69"
   ]
  },
  {
   "cell_type": "code",
   "execution_count": 14,
   "id": "60f90d6a",
   "metadata": {},
   "outputs": [
    {
     "name": "stdout",
     "output_type": "stream",
     "text": [
      "-69\n",
      "69\n"
     ]
    }
   ],
   "source": [
    "print(a)\n",
    "print(b)"
   ]
  },
  {
   "cell_type": "code",
   "execution_count": 15,
   "id": "ca08daa3",
   "metadata": {},
   "outputs": [
    {
     "name": "stdout",
     "output_type": "stream",
     "text": [
      "69 69\n"
     ]
    }
   ],
   "source": [
    "print(abs(a), abs(b))"
   ]
  },
  {
   "cell_type": "code",
   "execution_count": 18,
   "id": "d15b814c",
   "metadata": {},
   "outputs": [
    {
     "name": "stdout",
     "output_type": "stream",
     "text": [
      "3.141592653589793\n"
     ]
    }
   ],
   "source": [
    "print(m.pi)"
   ]
  },
  {
   "cell_type": "code",
   "execution_count": 19,
   "id": "137c71fa",
   "metadata": {},
   "outputs": [
    {
     "name": "stdout",
     "output_type": "stream",
     "text": [
      "6.283185307179586\n"
     ]
    }
   ],
   "source": [
    "print(m.tau)"
   ]
  },
  {
   "cell_type": "code",
   "execution_count": 20,
   "id": "995b1f96",
   "metadata": {},
   "outputs": [
    {
     "name": "stdout",
     "output_type": "stream",
     "text": [
      "2.718281828459045\n"
     ]
    }
   ],
   "source": [
    "print(m.e)"
   ]
  },
  {
   "cell_type": "code",
   "execution_count": 29,
   "id": "e7d5c9af",
   "metadata": {},
   "outputs": [
    {
     "name": "stdout",
     "output_type": "stream",
     "text": [
      "0.8939966636005579\n",
      "0.8509035245341184\n"
     ]
    }
   ],
   "source": [
    "print(m.sin(90))\n",
    "print(m.sin(45))"
   ]
  },
  {
   "cell_type": "code",
   "execution_count": 28,
   "id": "968e5dca",
   "metadata": {},
   "outputs": [
    {
     "name": "stdout",
     "output_type": "stream",
     "text": [
      "-0.4480736161291701\n",
      "0.5253219888177297\n"
     ]
    }
   ],
   "source": [
    "print(m.cos(90))\n",
    "print(m.cos(45))"
   ]
  },
  {
   "cell_type": "code",
   "execution_count": 30,
   "id": "df54907d",
   "metadata": {},
   "outputs": [
    {
     "name": "stdout",
     "output_type": "stream",
     "text": [
      "1.6197751905438615\n",
      "0.320040389379563\n"
     ]
    }
   ],
   "source": [
    "print(m.tan(45))\n",
    "print(m.tan(60))"
   ]
  },
  {
   "cell_type": "code",
   "execution_count": 37,
   "id": "ba931c3c",
   "metadata": {},
   "outputs": [
    {
     "name": "stdout",
     "output_type": "stream",
     "text": [
      "12.0\n"
     ]
    }
   ],
   "source": [
    "print(m.sqrt(144))"
   ]
  },
  {
   "cell_type": "code",
   "execution_count": 43,
   "id": "034dc75c",
   "metadata": {},
   "outputs": [
    {
     "name": "stdout",
     "output_type": "stream",
     "text": [
      "729\n"
     ]
    }
   ],
   "source": [
    "print(pow(9, 3))"
   ]
  },
  {
   "cell_type": "code",
   "execution_count": 46,
   "id": "e5ca939e",
   "metadata": {},
   "outputs": [
    {
     "name": "stdout",
     "output_type": "stream",
     "text": [
      "120\n"
     ]
    }
   ],
   "source": [
    "print(m.factorial(5))"
   ]
  },
  {
   "cell_type": "code",
   "execution_count": 47,
   "id": "a184e11e",
   "metadata": {},
   "outputs": [
    {
     "ename": "AttributeError",
     "evalue": "module 'math' has no attribute 'radian'",
     "output_type": "error",
     "traceback": [
      "\u001b[1;31m---------------------------------------------------------------------------\u001b[0m",
      "\u001b[1;31mAttributeError\u001b[0m                            Traceback (most recent call last)",
      "\u001b[1;32m<ipython-input-47-953bc7640cb2>\u001b[0m in \u001b[0;36m<module>\u001b[1;34m\u001b[0m\n\u001b[1;32m----> 1\u001b[1;33m \u001b[0mprint\u001b[0m\u001b[1;33m(\u001b[0m\u001b[0mm\u001b[0m\u001b[1;33m.\u001b[0m\u001b[0mradian\u001b[0m\u001b[1;33m(\u001b[0m\u001b[1;36m45\u001b[0m\u001b[1;33m)\u001b[0m\u001b[1;33m)\u001b[0m\u001b[1;33m\u001b[0m\u001b[1;33m\u001b[0m\u001b[0m\n\u001b[0m",
      "\u001b[1;31mAttributeError\u001b[0m: module 'math' has no attribute 'radian'"
     ]
    }
   ],
   "source": [
    "print(m.redian(45))"
   ]
  },
  {
   "cell_type": "code",
   "execution_count": null,
   "id": "93c71de5",
   "metadata": {},
   "outputs": [],
   "source": []
  }
 ],
 "metadata": {
  "kernelspec": {
   "display_name": "Python 3",
   "language": "python",
   "name": "python3"
  },
  "language_info": {
   "codemirror_mode": {
    "name": "ipython",
    "version": 3
   },
   "file_extension": ".py",
   "mimetype": "text/x-python",
   "name": "python",
   "nbconvert_exporter": "python",
   "pygments_lexer": "ipython3",
   "version": "3.8.5"
  }
 },
 "nbformat": 4,
 "nbformat_minor": 5
}
