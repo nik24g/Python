{
 "cells": [
  {
   "cell_type": "markdown",
   "id": "04d9f441",
   "metadata": {},
   "source": [
    "# ***Numpy Notebook***"
   ]
  },
  {
   "cell_type": "code",
   "execution_count": 1,
   "id": "e0cf38a3",
   "metadata": {},
   "outputs": [],
   "source": [
    "import numpy as np"
   ]
  },
  {
   "cell_type": "markdown",
   "id": "388cd444",
   "metadata": {},
   "source": [
    "**1-D array**"
   ]
  },
  {
   "cell_type": "code",
   "execution_count": 2,
   "id": "b4577197",
   "metadata": {},
   "outputs": [
    {
     "name": "stdout",
     "output_type": "stream",
     "text": [
      "[2 6 8 6 8 2]\n",
      "(6,)\n"
     ]
    }
   ],
   "source": [
    "myarr = np.array([2, 6, 8, 6, 8, 2])\n",
    "print(myarr)\n",
    "print(myarr.shape)"
   ]
  },
  {
   "cell_type": "markdown",
   "id": "6123fadb",
   "metadata": {},
   "source": [
    "*Indexing*"
   ]
  },
  {
   "cell_type": "code",
   "execution_count": 3,
   "id": "58b4aa5d",
   "metadata": {
    "scrolled": true
   },
   "outputs": [
    {
     "name": "stdout",
     "output_type": "stream",
     "text": [
      "2\n",
      "6\n",
      "8\n"
     ]
    }
   ],
   "source": [
    "print(myarr[0])\n",
    "print(myarr[1])\n",
    "print(myarr[2])"
   ]
  },
  {
   "cell_type": "markdown",
   "id": "4384577f",
   "metadata": {},
   "source": [
    "**2-D array**"
   ]
  },
  {
   "cell_type": "code",
   "execution_count": 4,
   "id": "feae11de",
   "metadata": {
    "scrolled": true
   },
   "outputs": [
    {
     "name": "stdout",
     "output_type": "stream",
     "text": [
      "[[2 6 9]\n",
      " [5 9 6]\n",
      " [8 1 0]]\n"
     ]
    }
   ],
   "source": [
    "myarr2 = np.array([[2, 6, 9], [5, 9, 6], [8, 1, 0]], dtype = \"int8\")\n",
    "print(myarr2)"
   ]
  },
  {
   "cell_type": "markdown",
   "id": "771398d8",
   "metadata": {},
   "source": [
    "*Indexing*"
   ]
  },
  {
   "cell_type": "code",
   "execution_count": 5,
   "id": "3ece142b",
   "metadata": {
    "scrolled": true
   },
   "outputs": [
    {
     "name": "stdout",
     "output_type": "stream",
     "text": [
      "6\n"
     ]
    }
   ],
   "source": [
    "print(myarr2[1, 2])"
   ]
  },
  {
   "cell_type": "markdown",
   "id": "eb9de4b6",
   "metadata": {},
   "source": [
    "*updating 2-d array*"
   ]
  },
  {
   "cell_type": "code",
   "execution_count": 6,
   "id": "d40df0df",
   "metadata": {
    "scrolled": true
   },
   "outputs": [
    {
     "name": "stdout",
     "output_type": "stream",
     "text": [
      "[[2 6 9]\n",
      " [5 9 2]\n",
      " [8 1 0]]\n"
     ]
    }
   ],
   "source": [
    "myarr2[1, 2] = 2\n",
    "print(myarr2)"
   ]
  },
  {
   "cell_type": "code",
   "execution_count": 7,
   "id": "23d2ff95",
   "metadata": {},
   "outputs": [
    {
     "name": "stdout",
     "output_type": "stream",
     "text": [
      "(3, 3)\n"
     ]
    }
   ],
   "source": [
    "print(myarr2.shape)\n",
    "# shape tells the shape of an array as first element is for row and 2nd is for column"
   ]
  },
  {
   "cell_type": "code",
   "execution_count": 8,
   "id": "5a86476f",
   "metadata": {
    "scrolled": true
   },
   "outputs": [
    {
     "name": "stdout",
     "output_type": "stream",
     "text": [
      "9\n"
     ]
    }
   ],
   "source": [
    "print(myarr2.size)\n",
    "# size will give the size of an array as the total no. of elements in the array"
   ]
  },
  {
   "cell_type": "code",
   "execution_count": 9,
   "id": "b760394f",
   "metadata": {
    "scrolled": true
   },
   "outputs": [
    {
     "name": "stdout",
     "output_type": "stream",
     "text": [
      "int8\n"
     ]
    }
   ],
   "source": [
    "print(myarr2.dtype)\n",
    "# dtype gives type of an array"
   ]
  },
  {
   "cell_type": "code",
   "execution_count": 10,
   "id": "cfa95dde",
   "metadata": {},
   "outputs": [
    {
     "data": {
      "text/plain": [
       "array([[2, 6, 9],\n",
       "       [5, 9, 2],\n",
       "       [8, 1, 0]], dtype=int8)"
      ]
     },
     "execution_count": 10,
     "metadata": {},
     "output_type": "execute_result"
    }
   ],
   "source": [
    "myarr2"
   ]
  },
  {
   "cell_type": "code",
   "execution_count": 11,
   "id": "4dc0a3ad",
   "metadata": {},
   "outputs": [
    {
     "name": "stdout",
     "output_type": "stream",
     "text": [
      "[[0. 0. 0. 0. 0. 0.]\n",
      " [0. 0. 0. 0. 0. 0.]]\n"
     ]
    }
   ],
   "source": [
    "zeros = np.zeros((2, 6))\n",
    "# zeros gives an array of zeros, we have to give row and coloum as an arguments\n",
    "print(zeros)"
   ]
  },
  {
   "cell_type": "code",
   "execution_count": 12,
   "id": "ba12e660",
   "metadata": {},
   "outputs": [
    {
     "name": "stdout",
     "output_type": "stream",
     "text": [
      "[ 0  1  2  3  4  5  6  7  8  9 10 11 12 13 14 15]\n"
     ]
    }
   ],
   "source": [
    "rng = np.arange(16)\n",
    "# arange function in numpy is simillar to python inbuild range function. arange gives an array of range\n",
    "print(rng)"
   ]
  },
  {
   "cell_type": "code",
   "execution_count": 13,
   "id": "828a3249",
   "metadata": {},
   "outputs": [
    {
     "name": "stdout",
     "output_type": "stream",
     "text": [
      "[ 1.   5.9 10.8 15.7 20.6 25.5 30.4 35.3 40.2 45.1 50. ]\n"
     ]
    }
   ],
   "source": [
    "lspace = np.linspace(1, 50, 11)\n",
    "# linspace gives an array of equally distributed elements. It takes 3 arguments.\n",
    "# 1st and 2nd argument is for a range of no. numbers in between we want elements.\n",
    "# 3rd argument is for how many elements we want between in range of 1st_arg and 2nd_arg.\n",
    "print(lspace)"
   ]
  },
  {
   "cell_type": "code",
   "execution_count": null,
   "id": "ffbfbe2e",
   "metadata": {},
   "outputs": [],
   "source": []
  }
 ],
 "metadata": {
  "kernelspec": {
   "display_name": "Python 3",
   "language": "python",
   "name": "python3"
  },
  "language_info": {
   "codemirror_mode": {
    "name": "ipython",
    "version": 3
   },
   "file_extension": ".py",
   "mimetype": "text/x-python",
   "name": "python",
   "nbconvert_exporter": "python",
   "pygments_lexer": "ipython3",
   "version": "3.8.5"
  }
 },
 "nbformat": 4,
 "nbformat_minor": 5
}
