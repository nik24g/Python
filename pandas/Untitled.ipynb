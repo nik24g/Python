{
 "cells": [
  {
   "cell_type": "code",
   "execution_count": 1,
   "id": "fa86fd83",
   "metadata": {},
   "outputs": [
    {
     "name": "stdout",
     "output_type": "stream",
     "text": [
      "4\n",
      "abc\n",
      "nit\n",
      "gos\n",
      "abc\n",
      "0\n",
      "\n"
     ]
    }
   ],
   "source": [
    "import numpy as np\n",
    "\n",
    "n = int(input())\n",
    "lst = np.array([])\n",
    "\n",
    "for i in range(n):\n",
    "    string = input()\n",
    "    np.append(lst, string)\n",
    "\n",
    "sett = set(lst)\n",
    "\n",
    "occ = np.array([])\n",
    "new_lst = np.array([])\n",
    "for i in lst:\n",
    "    if i in new_lst:\n",
    "        continue\n",
    "    np.append(new_lst, i)\n",
    "    # x = lst.count(i)\n",
    "    x = np.char.count(lst, i)\n",
    "    np.append(occ, x)\n",
    "\n",
    "f_occ = list(map(str, list(occ)))\n",
    "\n",
    "print(len(sett))\n",
    "print(\" \".join(f_occ))\n",
    "\n"
   ]
  },
  {
   "cell_type": "code",
   "execution_count": 2,
   "id": "f4d6a656",
   "metadata": {},
   "outputs": [
    {
     "data": {
      "text/plain": [
       "[]"
      ]
     },
     "execution_count": 2,
     "metadata": {},
     "output_type": "execute_result"
    }
   ],
   "source": [
    "f_occ"
   ]
  },
  {
   "cell_type": "code",
   "execution_count": 3,
   "id": "1a208782",
   "metadata": {},
   "outputs": [
    {
     "data": {
      "text/plain": [
       "array([], dtype=float64)"
      ]
     },
     "execution_count": 3,
     "metadata": {},
     "output_type": "execute_result"
    }
   ],
   "source": [
    "occ"
   ]
  },
  {
   "cell_type": "code",
   "execution_count": 4,
   "id": "01cbd1a3",
   "metadata": {},
   "outputs": [
    {
     "data": {
      "text/plain": [
       "array([], dtype=float64)"
      ]
     },
     "execution_count": 4,
     "metadata": {},
     "output_type": "execute_result"
    }
   ],
   "source": [
    "lst"
   ]
  },
  {
   "cell_type": "code",
   "execution_count": 5,
   "id": "8ecbfdd3",
   "metadata": {},
   "outputs": [
    {
     "data": {
      "text/plain": [
       "set()"
      ]
     },
     "execution_count": 5,
     "metadata": {},
     "output_type": "execute_result"
    }
   ],
   "source": [
    "sett"
   ]
  },
  {
   "cell_type": "code",
   "execution_count": null,
   "id": "3b4204f2",
   "metadata": {},
   "outputs": [],
   "source": []
  }
 ],
 "metadata": {
  "kernelspec": {
   "display_name": "Python 3",
   "language": "python",
   "name": "python3"
  },
  "language_info": {
   "codemirror_mode": {
    "name": "ipython",
    "version": 3
   },
   "file_extension": ".py",
   "mimetype": "text/x-python",
   "name": "python",
   "nbconvert_exporter": "python",
   "pygments_lexer": "ipython3",
   "version": "3.8.5"
  }
 },
 "nbformat": 4,
 "nbformat_minor": 5
}
