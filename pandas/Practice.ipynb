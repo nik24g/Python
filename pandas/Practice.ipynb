{
 "cells": [
  {
   "cell_type": "code",
   "execution_count": 1,
   "id": "cc6345d8",
   "metadata": {},
   "outputs": [],
   "source": [
    "import numpy as np"
   ]
  },
  {
   "cell_type": "code",
   "execution_count": 2,
   "id": "215f5b33",
   "metadata": {},
   "outputs": [
    {
     "name": "stdout",
     "output_type": "stream",
     "text": [
      "4\n"
     ]
    },
    {
     "ename": "TypeError",
     "evalue": "array() missing required argument 'object' (pos 1)",
     "output_type": "error",
     "traceback": [
      "\u001b[1;31m---------------------------------------------------------------------------\u001b[0m",
      "\u001b[1;31mTypeError\u001b[0m                                 Traceback (most recent call last)",
      "\u001b[1;32m<ipython-input-2-9f0f2106bbec>\u001b[0m in \u001b[0;36m<module>\u001b[1;34m\u001b[0m\n\u001b[0;32m      1\u001b[0m \u001b[0mn\u001b[0m \u001b[1;33m=\u001b[0m \u001b[0mint\u001b[0m\u001b[1;33m(\u001b[0m\u001b[0minput\u001b[0m\u001b[1;33m(\u001b[0m\u001b[1;33m)\u001b[0m\u001b[1;33m)\u001b[0m\u001b[1;33m\u001b[0m\u001b[1;33m\u001b[0m\u001b[0m\n\u001b[0;32m      2\u001b[0m \u001b[1;31m# lst = []\u001b[0m\u001b[1;33m\u001b[0m\u001b[1;33m\u001b[0m\u001b[1;33m\u001b[0m\u001b[0m\n\u001b[1;32m----> 3\u001b[1;33m \u001b[0marr\u001b[0m \u001b[1;33m=\u001b[0m \u001b[0mnp\u001b[0m\u001b[1;33m.\u001b[0m\u001b[0marray\u001b[0m\u001b[1;33m(\u001b[0m\u001b[1;33m)\u001b[0m\u001b[1;33m\u001b[0m\u001b[1;33m\u001b[0m\u001b[0m\n\u001b[0m",
      "\u001b[1;31mTypeError\u001b[0m: array() missing required argument 'object' (pos 1)"
     ]
    }
   ],
   "source": [
    "n = int(input())\n",
    "# lst = []\n",
    "arr = np.array()"
   ]
  },
  {
   "cell_type": "code",
   "execution_count": null,
   "id": "88115b50",
   "metadata": {},
   "outputs": [],
   "source": [
    "for i in range(n):\n",
    "    string = input()\n",
    "    np.append(arr, string)"
   ]
  },
  {
   "cell_type": "code",
   "execution_count": null,
   "id": "63fdd7e5",
   "metadata": {},
   "outputs": [],
   "source": [
    "print(arr)"
   ]
  },
  {
   "cell_type": "code",
   "execution_count": null,
   "id": "f7cde852",
   "metadata": {},
   "outputs": [],
   "source": [
    "sett = set(arr)\n",
    "print(len(sett))"
   ]
  },
  {
   "cell_type": "code",
   "execution_count": null,
   "id": "4e7d4887",
   "metadata": {},
   "outputs": [],
   "source": [
    "occ = []\n",
    "new_lst = []\n",
    "for i in lst:\n",
    "    if i in new_lst:\n",
    "        continue\n",
    "    new_lst.append(i)\n",
    "    x = lst.count(i)\n",
    "    occ.append(x)\n",
    "    "
   ]
  },
  {
   "cell_type": "code",
   "execution_count": null,
   "id": "eb47a0b3",
   "metadata": {},
   "outputs": [],
   "source": [
    "f_occ = list(map(str, occ))"
   ]
  },
  {
   "cell_type": "code",
   "execution_count": null,
   "id": "34de81e2",
   "metadata": {},
   "outputs": [],
   "source": [
    "print(\" \".join(f_occ))"
   ]
  }
 ],
 "metadata": {
  "kernelspec": {
   "display_name": "Python 3",
   "language": "python",
   "name": "python3"
  },
  "language_info": {
   "codemirror_mode": {
    "name": "ipython",
    "version": 3
   },
   "file_extension": ".py",
   "mimetype": "text/x-python",
   "name": "python",
   "nbconvert_exporter": "python",
   "pygments_lexer": "ipython3",
   "version": "3.8.5"
  }
 },
 "nbformat": 4,
 "nbformat_minor": 5
}
